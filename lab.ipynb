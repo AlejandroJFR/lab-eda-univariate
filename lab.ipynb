{
 "cells": [
  {
   "cell_type": "markdown",
   "id": "1aae77b0",
   "metadata": {},
   "source": [
    "## Lab - EDA Univariate Analysis: Diving into Amazon UK Product Insights\n",
    "\n",
    "**Objective**: Explore the product listing dynamics on Amazon UK to extract actionable business insights. By understanding the distribution, central tendencies, and relationships of various product attributes, businesses can make more informed decisions on product positioning, pricing strategies, and inventory management.\n",
    "\n",
    "**Dataset**: This lab utilizes the [Amazon UK product dataset](https://www.kaggle.com/datasets/asaniczka/uk-optimal-product-price-prediction/)\n",
    "which provides information on product categories, brands, prices, ratings, and more from from Amazon UK. You'll need to download it to start working with it.\n",
    "\n",
    "\n",
    "---\n",
    "\n",
    "### Part 1: Understanding Product Categories\n",
    "\n",
    "**Business Question**: What are the most popular product categories on Amazon UK, and how do they compare in terms of listing frequency?\n",
    "\n",
    "1. **Frequency Tables**:\n",
    "    - Generate a frequency table for the product `category`.\n",
    "    - Which are the top 5 most listed product categories?\n",
    "\n",
    "2. **Visualizations**:\n",
    "    - Display the distribution of products across different categories using a bar chart. *If you face problems understanding the chart, do it for a subset of top categories.*\n",
    "    - For a subset of top categories, visualize their proportions using a pie chart. Does any category dominate the listings?\n",
    "\n",
    "---"
   ]
  },
  {
   "cell_type": "code",
   "execution_count": 1,
   "id": "4dc84cc4",
   "metadata": {},
   "outputs": [],
   "source": [
    "import pandas as pd\n",
    "import matplotlib.pyplot as plt\n",
    "import seaborn as sns\n",
    "import numpy as np\n",
    "\n",
    "%matplotlib inline"
   ]
  },
  {
   "cell_type": "code",
   "execution_count": 4,
   "id": "a05ac0a4",
   "metadata": {},
   "outputs": [],
   "source": [
    "# Loading the Amazon Uk product dataset\n",
    "df = pd.read_csv(r\"amz_uk_price_prediction_dataset.csv\")\n",
    "pd.set_option('display.float_format', '{:.2f}'.format)"
   ]
  },
  {
   "cell_type": "code",
   "execution_count": 5,
   "id": "be3f8ac4",
   "metadata": {},
   "outputs": [],
   "source": [
    "df.set_index(\"uid\", inplace=True)"
   ]
  },
  {
   "cell_type": "code",
   "execution_count": 6,
   "id": "fbbb8c62",
   "metadata": {},
   "outputs": [
    {
     "data": {
      "text/html": [
       "<div>\n",
       "<style scoped>\n",
       "    .dataframe tbody tr th:only-of-type {\n",
       "        vertical-align: middle;\n",
       "    }\n",
       "\n",
       "    .dataframe tbody tr th {\n",
       "        vertical-align: top;\n",
       "    }\n",
       "\n",
       "    .dataframe thead th {\n",
       "        text-align: right;\n",
       "    }\n",
       "</style>\n",
       "<table border=\"1\" class=\"dataframe\">\n",
       "  <thead>\n",
       "    <tr style=\"text-align: right;\">\n",
       "      <th></th>\n",
       "      <th>asin</th>\n",
       "      <th>title</th>\n",
       "      <th>stars</th>\n",
       "      <th>reviews</th>\n",
       "      <th>price</th>\n",
       "      <th>isBestSeller</th>\n",
       "      <th>boughtInLastMonth</th>\n",
       "      <th>category</th>\n",
       "    </tr>\n",
       "    <tr>\n",
       "      <th>uid</th>\n",
       "      <th></th>\n",
       "      <th></th>\n",
       "      <th></th>\n",
       "      <th></th>\n",
       "      <th></th>\n",
       "      <th></th>\n",
       "      <th></th>\n",
       "      <th></th>\n",
       "    </tr>\n",
       "  </thead>\n",
       "  <tbody>\n",
       "    <tr>\n",
       "      <th>1</th>\n",
       "      <td>B09B96TG33</td>\n",
       "      <td>Echo Dot (5th generation, 2022 release) | Big ...</td>\n",
       "      <td>4.70</td>\n",
       "      <td>15308</td>\n",
       "      <td>21.99</td>\n",
       "      <td>False</td>\n",
       "      <td>0</td>\n",
       "      <td>Hi-Fi Speakers</td>\n",
       "    </tr>\n",
       "    <tr>\n",
       "      <th>2</th>\n",
       "      <td>B01HTH3C8S</td>\n",
       "      <td>Anker Soundcore mini, Super-Portable Bluetooth...</td>\n",
       "      <td>4.70</td>\n",
       "      <td>98099</td>\n",
       "      <td>23.99</td>\n",
       "      <td>True</td>\n",
       "      <td>0</td>\n",
       "      <td>Hi-Fi Speakers</td>\n",
       "    </tr>\n",
       "    <tr>\n",
       "      <th>3</th>\n",
       "      <td>B09B8YWXDF</td>\n",
       "      <td>Echo Dot (5th generation, 2022 release) | Big ...</td>\n",
       "      <td>4.70</td>\n",
       "      <td>15308</td>\n",
       "      <td>21.99</td>\n",
       "      <td>False</td>\n",
       "      <td>0</td>\n",
       "      <td>Hi-Fi Speakers</td>\n",
       "    </tr>\n",
       "    <tr>\n",
       "      <th>4</th>\n",
       "      <td>B09B8T5VGV</td>\n",
       "      <td>Echo Dot with clock (5th generation, 2022 rele...</td>\n",
       "      <td>4.70</td>\n",
       "      <td>7205</td>\n",
       "      <td>31.99</td>\n",
       "      <td>False</td>\n",
       "      <td>0</td>\n",
       "      <td>Hi-Fi Speakers</td>\n",
       "    </tr>\n",
       "    <tr>\n",
       "      <th>5</th>\n",
       "      <td>B09WX6QD65</td>\n",
       "      <td>Introducing Echo Pop | Full sound compact Wi-F...</td>\n",
       "      <td>4.60</td>\n",
       "      <td>1881</td>\n",
       "      <td>17.99</td>\n",
       "      <td>False</td>\n",
       "      <td>0</td>\n",
       "      <td>Hi-Fi Speakers</td>\n",
       "    </tr>\n",
       "    <tr>\n",
       "      <th>...</th>\n",
       "      <td>...</td>\n",
       "      <td>...</td>\n",
       "      <td>...</td>\n",
       "      <td>...</td>\n",
       "      <td>...</td>\n",
       "      <td>...</td>\n",
       "      <td>...</td>\n",
       "      <td>...</td>\n",
       "    </tr>\n",
       "    <tr>\n",
       "      <th>2828589</th>\n",
       "      <td>B0CHSD7P2Q</td>\n",
       "      <td>Motorbike Armour, Motorbike Clothing, Cycling ...</td>\n",
       "      <td>0.00</td>\n",
       "      <td>0</td>\n",
       "      <td>22.34</td>\n",
       "      <td>False</td>\n",
       "      <td>0</td>\n",
       "      <td>Motorbike Clothing</td>\n",
       "    </tr>\n",
       "    <tr>\n",
       "      <th>2828590</th>\n",
       "      <td>B0B7B8FNBQ</td>\n",
       "      <td>PROFIRST Waterproof Motorcycle 2 Piece Ladies ...</td>\n",
       "      <td>0.00</td>\n",
       "      <td>0</td>\n",
       "      <td>97.99</td>\n",
       "      <td>False</td>\n",
       "      <td>0</td>\n",
       "      <td>Motorbike Clothing</td>\n",
       "    </tr>\n",
       "    <tr>\n",
       "      <th>2828591</th>\n",
       "      <td>B0BD5FL5FB</td>\n",
       "      <td>Men’s Motorcycle Motorbike Biker Trousers Kevl...</td>\n",
       "      <td>0.00</td>\n",
       "      <td>0</td>\n",
       "      <td>52.99</td>\n",
       "      <td>False</td>\n",
       "      <td>0</td>\n",
       "      <td>Motorbike Clothing</td>\n",
       "    </tr>\n",
       "    <tr>\n",
       "      <th>2828592</th>\n",
       "      <td>B008OYLL4I</td>\n",
       "      <td>Texpeed Mens Motorcycle Motorbike Biker Trouse...</td>\n",
       "      <td>4.30</td>\n",
       "      <td>404</td>\n",
       "      <td>79.99</td>\n",
       "      <td>False</td>\n",
       "      <td>0</td>\n",
       "      <td>Motorbike Clothing</td>\n",
       "    </tr>\n",
       "    <tr>\n",
       "      <th>2828593</th>\n",
       "      <td>B08P3W9B3T</td>\n",
       "      <td>RIDEX CJ223 Motorcycle Motorbike Jacket Armour...</td>\n",
       "      <td>4.50</td>\n",
       "      <td>34</td>\n",
       "      <td>53.99</td>\n",
       "      <td>False</td>\n",
       "      <td>0</td>\n",
       "      <td>Motorbike Clothing</td>\n",
       "    </tr>\n",
       "  </tbody>\n",
       "</table>\n",
       "<p>2443651 rows × 8 columns</p>\n",
       "</div>"
      ],
      "text/plain": [
       "               asin                                              title  stars  \\\n",
       "uid                                                                             \n",
       "1        B09B96TG33  Echo Dot (5th generation, 2022 release) | Big ...   4.70   \n",
       "2        B01HTH3C8S  Anker Soundcore mini, Super-Portable Bluetooth...   4.70   \n",
       "3        B09B8YWXDF  Echo Dot (5th generation, 2022 release) | Big ...   4.70   \n",
       "4        B09B8T5VGV  Echo Dot with clock (5th generation, 2022 rele...   4.70   \n",
       "5        B09WX6QD65  Introducing Echo Pop | Full sound compact Wi-F...   4.60   \n",
       "...             ...                                                ...    ...   \n",
       "2828589  B0CHSD7P2Q  Motorbike Armour, Motorbike Clothing, Cycling ...   0.00   \n",
       "2828590  B0B7B8FNBQ  PROFIRST Waterproof Motorcycle 2 Piece Ladies ...   0.00   \n",
       "2828591  B0BD5FL5FB  Men’s Motorcycle Motorbike Biker Trousers Kevl...   0.00   \n",
       "2828592  B008OYLL4I  Texpeed Mens Motorcycle Motorbike Biker Trouse...   4.30   \n",
       "2828593  B08P3W9B3T  RIDEX CJ223 Motorcycle Motorbike Jacket Armour...   4.50   \n",
       "\n",
       "         reviews  price  isBestSeller  boughtInLastMonth            category  \n",
       "uid                                                                           \n",
       "1          15308  21.99         False                  0      Hi-Fi Speakers  \n",
       "2          98099  23.99          True                  0      Hi-Fi Speakers  \n",
       "3          15308  21.99         False                  0      Hi-Fi Speakers  \n",
       "4           7205  31.99         False                  0      Hi-Fi Speakers  \n",
       "5           1881  17.99         False                  0      Hi-Fi Speakers  \n",
       "...          ...    ...           ...                ...                 ...  \n",
       "2828589        0  22.34         False                  0  Motorbike Clothing  \n",
       "2828590        0  97.99         False                  0  Motorbike Clothing  \n",
       "2828591        0  52.99         False                  0  Motorbike Clothing  \n",
       "2828592      404  79.99         False                  0  Motorbike Clothing  \n",
       "2828593       34  53.99         False                  0  Motorbike Clothing  \n",
       "\n",
       "[2443651 rows x 8 columns]"
      ]
     },
     "execution_count": 6,
     "metadata": {},
     "output_type": "execute_result"
    }
   ],
   "source": [
    "df"
   ]
  },
  {
   "cell_type": "code",
   "execution_count": 7,
   "id": "5cab37ab",
   "metadata": {},
   "outputs": [
    {
     "data": {
      "text/html": [
       "<div>\n",
       "<style scoped>\n",
       "    .dataframe tbody tr th:only-of-type {\n",
       "        vertical-align: middle;\n",
       "    }\n",
       "\n",
       "    .dataframe tbody tr th {\n",
       "        vertical-align: top;\n",
       "    }\n",
       "\n",
       "    .dataframe thead th {\n",
       "        text-align: right;\n",
       "    }\n",
       "</style>\n",
       "<table border=\"1\" class=\"dataframe\">\n",
       "  <thead>\n",
       "    <tr style=\"text-align: right;\">\n",
       "      <th>col_0</th>\n",
       "      <th>count</th>\n",
       "    </tr>\n",
       "    <tr>\n",
       "      <th>category</th>\n",
       "      <th></th>\n",
       "    </tr>\n",
       "  </thead>\n",
       "  <tbody>\n",
       "    <tr>\n",
       "      <th>Sports &amp; Outdoors</th>\n",
       "      <td>836265</td>\n",
       "    </tr>\n",
       "    <tr>\n",
       "      <th>Beauty</th>\n",
       "      <td>19312</td>\n",
       "    </tr>\n",
       "    <tr>\n",
       "      <th>Handmade Clothing, Shoes &amp; Accessories</th>\n",
       "      <td>19229</td>\n",
       "    </tr>\n",
       "    <tr>\n",
       "      <th>Bath &amp; Body</th>\n",
       "      <td>19092</td>\n",
       "    </tr>\n",
       "    <tr>\n",
       "      <th>Birthday Gifts</th>\n",
       "      <td>18978</td>\n",
       "    </tr>\n",
       "  </tbody>\n",
       "</table>\n",
       "</div>"
      ],
      "text/plain": [
       "col_0                                    count\n",
       "category                                      \n",
       "Sports & Outdoors                       836265\n",
       "Beauty                                   19312\n",
       "Handmade Clothing, Shoes & Accessories   19229\n",
       "Bath & Body                              19092\n",
       "Birthday Gifts                           18978"
      ]
     },
     "execution_count": 7,
     "metadata": {},
     "output_type": "execute_result"
    }
   ],
   "source": [
    "frequency_table = pd.crosstab(index= df['category'], columns=\"count\").sort_values(by='count', ascending=False).head(5)\n",
    "frequency_table"
   ]
  },
  {
   "cell_type": "code",
   "execution_count": 8,
   "id": "203e1977",
   "metadata": {},
   "outputs": [
    {
     "name": "stderr",
     "output_type": "stream",
     "text": [
      "C:\\Users\\aj824\\AppData\\Local\\Temp\\ipykernel_31616\\4181320501.py:2: FutureWarning: \n",
      "\n",
      "Passing `palette` without assigning `hue` is deprecated and will be removed in v0.14.0. Assign the `x` variable to `hue` and set `legend=False` for the same effect.\n",
      "\n",
      "  sns.barplot(x=frequency_table.index, y=frequency_table['count'], palette=\"Set3\")\n"
     ]
    },
    {
     "data": {
      "text/plain": [
       "<Axes: xlabel='category', ylabel='count'>"
      ]
     },
     "execution_count": 8,
     "metadata": {},
     "output_type": "execute_result"
    },
    {
     "data": {
      "image/png": "[encoded data removed]",
      "text/plain": [
       "<Figure size 640x480 with 1 Axes>"
      ]
     },
     "metadata": {},
     "output_type": "display_data"
    }
   ],
   "source": [
    "# Plotting a bar chart using the values from the frequency table, with colors sourced from the \"Set3\" palette\n",
    "sns.barplot(x=frequency_table.index, y=frequency_table['count'], palette=\"Set3\")"
   ]
  },
  {
   "cell_type": "code",
   "execution_count": 9,
   "id": "0b0827ac",
   "metadata": {},
   "outputs": [
    {
     "data": {
      "text/plain": [
       "<Axes: ylabel='count'>"
      ]
     },
     "execution_count": 9,
     "metadata": {},
     "output_type": "execute_result"
    },
    {
     "data": {
      "image/png": "[encoded data removed]",
      "text/plain": [
       "<Figure size 640x480 with 1 Axes>"
      ]
     },
     "metadata": {},
     "output_type": "display_data"
    }
   ],
   "source": [
    "# Plotting a pie chart of the 'Category' column value counts, with percentage labels, \n",
    "# starting at angle 90, and using colors from the \"Set3\" Seaborn palette\n",
    "df['category'].value_counts().head(5).plot.pie(autopct='%1.1f%%', startangle=90, colors=sns.color_palette(\"Set3\"))"
   ]
  },
  {
   "cell_type": "markdown",
   "id": "e30eb50f",
   "metadata": {},
   "source": [
    "### Part 2: Delving into Product Pricing\n",
    "\n",
    "**Business Question**: How are products priced on Amazon UK, and are there specific price points or ranges that are more common?\n",
    "\n",
    "1. **Measures of Centrality**:\n",
    "    - Calculate the mean, median, and mode for the `price` of products.\n",
    "    - What's the average price point of products listed? How does this compare with the most common price point (mode)?\n",
    "\n",
    "2. **Measures of Dispersion**:\n",
    "    - Determine the variance, standard deviation, range, and interquartile range for product `price`.\n",
    "    - How varied are the product prices? Are there any indicators of a significant spread in prices?\n",
    "\n",
    "3. **Visualizations**:\n",
    "    - Is there a specific price range where most products fall? Plot a histogram to visualize the distribution of product prices. *If its hard to read these diagrams, think why this is, and explain how it could be solved.*.\n",
    "    - Are there products that are priced significantly higher than the rest? Use a box plot to showcase the spread and potential outliers in product pricing. \n",
    "\n",
    "---"
   ]
  },
  {
   "cell_type": "code",
   "execution_count": 10,
   "id": "581a4753",
   "metadata": {},
   "outputs": [
    {
     "data": {
      "text/plain": [
       "count   2443651.00\n",
       "mean         89.24\n",
       "std         345.61\n",
       "min           0.00\n",
       "25%           9.99\n",
       "50%          19.09\n",
       "75%          45.99\n",
       "max      100000.00\n",
       "Name: price, dtype: float64"
      ]
     },
     "execution_count": 10,
     "metadata": {},
     "output_type": "execute_result"
    }
   ],
   "source": [
    "# Summary statistics for the dataset\n",
    "df['price'].describe()"
   ]
  },
  {
   "cell_type": "markdown",
   "id": "084ef52b",
   "metadata": {},
   "source": [
    "**Measures of Centrality**"
   ]
  },
  {
   "cell_type": "code",
   "execution_count": 11,
   "id": "8116cd46",
   "metadata": {},
   "outputs": [
    {
     "data": {
      "text/plain": [
       "(89.24380943923663, 19.09, 9.99)"
      ]
     },
     "execution_count": 11,
     "metadata": {},
     "output_type": "execute_result"
    }
   ],
   "source": [
    "mean_price = df['price'].mean()\n",
    "median_price = df['price'].median()\n",
    "mode_price = df['price'].mode()[0]\n",
    "\n",
    "mean_price, median_price, mode_price"
   ]
  },
  {
   "cell_type": "markdown",
   "id": "7a23d921",
   "metadata": {},
   "source": [
    "**Measures of Dispersion**"
   ]
  },
  {
   "cell_type": "code",
   "execution_count": 12,
   "id": "4f57dd4b",
   "metadata": {},
   "outputs": [
    {
     "data": {
      "text/plain": [
       "(119445.48532254907,\n",
       " 345.60886175349884,\n",
       " 0.0,\n",
       " 100000.0,\n",
       " 100000.0,\n",
       " 0.25    9.99\n",
       " 0.50   19.09\n",
       " 0.75   45.99\n",
       " Name: price, dtype: float64)"
      ]
     },
     "execution_count": 12,
     "metadata": {},
     "output_type": "execute_result"
    }
   ],
   "source": [
    "variance_price = df['price'].var()\n",
    "std_dev_price = df['price'].std()\n",
    "min_price = df['price'].min()\n",
    "max_price = df['price'].max()\n",
    "range_price = max_price - min_price\n",
    "quantiles_price = df['price'].quantile([0.25, 0.5, 0.75])\n",
    "\n",
    "variance_price, std_dev_price, min_price, max_price, range_price, quantiles_price"
   ]
  },
  {
   "cell_type": "code",
   "execution_count": 13,
   "id": "52a283a9",
   "metadata": {},
   "outputs": [
    {
     "data": {
      "image/png": "[encoded data removed]",
      "text/plain": [
       "<Figure size 1000x600 with 1 Axes>"
      ]
     },
     "metadata": {},
     "output_type": "display_data"
    }
   ],
   "source": [
    "# Plotting a histogram for the 'price' column of the 'data' dataframe\n",
    "# 'kde=True' adds a Kernel Density Estimate plot to give an approximation of the data's distribution\n",
    "# 'bins=30' divides the data into 30 bins for more detailed granularity\n",
    "# 'color=\"teal\"' sets the color of the bars to teal\n",
    "\n",
    "# Create a Seaborn plot\n",
    "plt.figure(figsize=(10, 6))\n",
    "sns.histplot(df['price'], bins=30, color='teal', edgecolor='black')\n",
    "\n",
    "# Disable scientific notation on the x-axis\n",
    "plt.ticklabel_format(style='plain', axis='y')\n",
    "\n",
    "plt.xlabel('Price')\n",
    "plt.ylabel('Count')\n",
    "plt.title('Price Distribution')\n",
    "plt.show()"
   ]
  },
  {
   "cell_type": "code",
   "execution_count": 18,
   "id": "de91fc98",
   "metadata": {},
   "outputs": [
    {
     "data": {
      "text/plain": [
       "(27.492977566280338, 4241.616412866518)"
      ]
     },
     "execution_count": 18,
     "metadata": {},
     "output_type": "execute_result"
    }
   ],
   "source": [
    "skewness_price = df['price'].skew()\n",
    "kurtosis_price = df['price'].kurtosis()\n",
    "\n",
    "skewness_price, kurtosis_price"
   ]
  },
  {
   "cell_type": "code",
   "execution_count": 29,
   "id": "891771b8",
   "metadata": {},
   "outputs": [
    {
     "data": {
      "text/plain": [
       "<Axes: ylabel='price'>"
      ]
     },
     "execution_count": 29,
     "metadata": {},
     "output_type": "execute_result"
    },
    {
     "data": {
      "image/png": "[encoded data removed]",
      "text/plain": [
       "<Figure size 640x480 with 1 Axes>"
      ]
     },
     "metadata": {},
     "output_type": "display_data"
    }
   ],
   "source": [
    "sns.boxplot(data = df['price'], color='teal')"
   ]
  },
  {
   "cell_type": "markdown",
   "id": "65f8fa85",
   "metadata": {},
   "source": [
    "\n",
    "\n",
    "### Part 3: Unpacking Product Ratings\n",
    "\n",
    "**Business Question**: How do customers rate products on Amazon UK, and are there any patterns or tendencies in the ratings?\n",
    "\n",
    "1. **Measures of Centrality**:\n",
    "    - Calculate the mean, median, and mode for the `rating` of products.\n",
    "    - How do customers generally rate products? Is there a common trend?\n",
    "\n",
    "2. **Measures of Dispersion**:\n",
    "    - Determine the variance, standard deviation, and interquartile range for product `rating`.\n",
    "    - Are the ratings consistent, or is there a wide variation in customer feedback?\n",
    "\n",
    "3. **Shape of the Distribution**:\n",
    "    - Calculate the skewness and kurtosis for the `rating` column. \n",
    "    - Are the ratings normally distributed, or do they lean towards higher or lower values?\n",
    "\n",
    "4. **Visualizations**:\n",
    "    - Plot a histogram to visualize the distribution of product ratings. Is there a specific rating that is more common?"
   ]
  },
  {
   "cell_type": "code",
   "execution_count": 15,
   "id": "a17ed661",
   "metadata": {},
   "outputs": [
    {
     "data": {
      "text/plain": [
       "(2.152836472966065, 0.0, 0.0)"
      ]
     },
     "execution_count": 15,
     "metadata": {},
     "output_type": "execute_result"
    }
   ],
   "source": [
    "mean_price = df['stars'].mean()\n",
    "median_price = df['stars'].median()\n",
    "mode_price = df['stars'].mode()[0]\n",
    "\n",
    "mean_price, median_price, mode_price"
   ]
  },
  {
   "cell_type": "code",
   "execution_count": 14,
   "id": "9209fbd0",
   "metadata": {},
   "outputs": [
    {
     "data": {
      "text/plain": [
       "(4.817434029796862,\n",
       " 2.1948653785134207,\n",
       " 0.0,\n",
       " 5.0,\n",
       " 5.0,\n",
       " 0.25   0.00\n",
       " 0.50   0.00\n",
       " 0.75   4.40\n",
       " Name: stars, dtype: float64)"
      ]
     },
     "execution_count": 14,
     "metadata": {},
     "output_type": "execute_result"
    }
   ],
   "source": [
    "variance_price = df['stars'].var()\n",
    "std_dev_price = df['stars'].std()\n",
    "min_price = df['stars'].min()\n",
    "max_price = df['stars'].max()\n",
    "range_price = max_price - min_price\n",
    "quantiles_price = df['stars'].quantile([0.25, 0.5, 0.75])\n",
    "\n",
    "variance_price, std_dev_price, min_price, max_price, range_price, quantiles_price"
   ]
  },
  {
   "cell_type": "code",
   "execution_count": 16,
   "id": "f46a650b",
   "metadata": {},
   "outputs": [
    {
     "data": {
      "text/plain": [
       "(0.08120735761080985, -1.9260061280432985)"
      ]
     },
     "execution_count": 16,
     "metadata": {},
     "output_type": "execute_result"
    }
   ],
   "source": [
    "skewness_price = df['stars'].skew()\n",
    "kurtosis_price = df['stars'].kurtosis()\n",
    "\n",
    "skewness_price, kurtosis_price"
   ]
  },
  {
   "cell_type": "markdown",
   "id": "37de6814",
   "metadata": {},
   "source": [
    "**Insights**:\n",
    "\n",
    "1. **Skewness**: The positive value of skewness (0.08) for the 'stars' means its tail is more pronounced on the right side than on the left. Since the distribution is positive, the assumption is that its value is positive. As such, most of the values end up left of the mean. This means that the most extreme values are on the right side\n",
    "  \n",
    "2. **Kurtosis**: The kurtosis value of -1.92 is smaller than 2.15, which indicates that the 'stars' distribution which means that it has a flatter peak and thinner tails compared to a normal distribution"
   ]
  },
  {
   "cell_type": "code",
   "execution_count": 17,
   "id": "583f0b5b",
   "metadata": {},
   "outputs": [
    {
     "data": {
      "image/png": "[encoded data removed]",
      "text/plain": [
       "<Figure size 1000x600 with 1 Axes>"
      ]
     },
     "metadata": {},
     "output_type": "display_data"
    }
   ],
   "source": [
    "# Create a Seaborn plot\n",
    "plt.figure(figsize=(10, 6))\n",
    "sns.histplot(df['stars'], bins=30, color='teal', edgecolor='black')\n",
    "\n",
    "# Disable scientific notation on the x-axis\n",
    "plt.ticklabel_format(style='plain', axis='y')\n",
    "\n",
    "plt.xlabel('Stars')\n",
    "plt.ylabel('Count')\n",
    "plt.title('Ratings Distribution')\n",
    "plt.show()"
   ]
  }
 ],
 "metadata": {
  "kernelspec": {
   "display_name": "Python 3 (ipykernel)",
   "language": "python",
   "name": "python3"
  },
  "language_info": {
   "codemirror_mode": {
    "name": "ipython",
    "version": 3
   },
   "file_extension": ".py",
   "mimetype": "text/x-python",
   "name": "python",
   "nbconvert_exporter": "python",
   "pygments_lexer": "ipython3",
   "version": "3.11.9"
  }
 },
 "nbformat": 4,
 "nbformat_minor": 5
}
